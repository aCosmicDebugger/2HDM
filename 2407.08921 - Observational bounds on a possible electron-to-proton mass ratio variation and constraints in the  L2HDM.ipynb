{
 "cells": [
  {
   "cell_type": "code",
   "execution_count": 1,
   "id": "35e6ba14-a3ee-4211-906e-7568b2c21600",
   "metadata": {},
   "outputs": [],
   "source": [
    "import sys, os\n",
    "import numpy as np\n",
    "import pandas as pd\n",
    "import matplotlib.patches as mpatches\n",
    "import matplotlib.pyplot as plt\n",
    "import math\n",
    "import scipy \n",
    "import scipy.integrate as si \n",
    "import scipy.interpolate \n",
    "import scipy.optimize\n",
    "import seaborn as sns\n",
    "import emcee\n",
    "import corner\n",
    "import getdist\n",
    "import warnings\n",
    "import re\n",
    "from sklearn.model_selection import cross_val_score\n",
    "from sklearn.metrics import mean_squared_error\n",
    "from sklearn.preprocessing import StandardScaler\n",
    "from sklearn.gaussian_process import GaussianProcessRegressor\n",
    "from sklearn.gaussian_process.kernels import WhiteKernel\n",
    "from sklearn.gaussian_process.kernels import RBF\n",
    "from sklearn.gaussian_process.kernels import ConstantKernel as C\n",
    "from sklearn.gaussian_process.kernels import DotProduct as DotP\n",
    "from sklearn.model_selection import RandomizedSearchCV\n",
    "from scipy.stats import norm\n",
    "from scipy.optimize import minimize\n",
    "from scipy.stats import uniform\n",
    "from scipy.stats import norm\n",
    "from getdist import plots, MCSamples\n",
    "\n",
    "warnings.filterwarnings(\"ignore\")"
   ]
  },
  {
   "cell_type": "code",
   "execution_count": 2,
   "id": "f0cc752e-1623-410e-889b-30a8a4e9d0b7",
   "metadata": {},
   "outputs": [],
   "source": [
    "# Velocidade da luz em [km/s]\n",
    "vel_c = 299792.4580 \n",
    "\n",
    "# Temperatura da CMB em [K], erro de ± 0.002 ver Fixsen 2009 DOI:10.1088/0004-637X/707/2/916\n",
    "T_0_cmb = 2.725\n",
    "\n",
    "# Parâmetro de densidade da radiação eletromagnética x h2 ver eq. 8 https://arxiv.org/abs/1411.1074 \n",
    "Omega_em_h2 = (4.482*10**(-7.0))*T_0_cmb**4.0 \n",
    "\n",
    "# Número efetivo de neutrinos\n",
    "Neff = 3.046\n",
    "\n",
    "# Parâmetro de densidade total da radiação (E.M. + Neutrinos) x h2\n",
    "Omega_r_h2 = Omega_em_h2*(1.0+0.2271*Neff)\n",
    "\n",
    "# Parâmetro de densidade de matéria bariônica e o erro ± 0.0039\n",
    "omega_b = 0.0493\n",
    "\n",
    "# Parâmetro de densidade de matéria e o erro ± 0.0073\n",
    "omega_m = 0.3153\n",
    "\n",
    "# Razão entre massa do eletron e próton:\n",
    "mu_0 = 1/1836.152\n",
    "\n",
    "# erro em mu0\n",
    "erro_mu_0 = 1.1e-6\n",
    "\n",
    "# Lista com os valores fiduciais para os parâmetros de densidade do LambdaCDM (Ωb, Ωc, ΩΛ)\n",
    "param_densidade = [0.049, 0.26, 0.69]\n",
    "\n",
    "# Lista com valores para os cálculos segundo o modelo fiducial\n",
    "param_cosmo = [0.3153, 0, 0.709, -1]\n",
    "\n",
    "# H_{0} Planck\n",
    "H0_PLANCK = 67.4\n",
    "\n",
    "# Gamma 0, e o erro 0.07\n",
    "gamma_0 = 0.79\n",
    "\n",
    "# K o erro 0.12\n",
    "K = 0.96 "
   ]
  },
  {
   "cell_type": "markdown",
   "id": "ed01a8d0-5560-47aa-9907-897da26c1283",
   "metadata": {},
   "source": [
    "## $D_{L}$  data:"
   ]
  },
  {
   "cell_type": "code",
   "execution_count": 3,
   "id": "f579e8d9-2c44-4ece-a275-0fb5a702413b",
   "metadata": {},
   "outputs": [],
   "source": [
    "# DL data\n",
    "DL_DATA_PLANCK = pd.read_csv(\"DL_DATA_PLANCK.csv\", index_col=None)\n",
    "DL_PLANCK = DL_DATA_PLANCK['dL_Planck']\n",
    "ERRO_DL_PLANCK = DL_DATA_PLANCK['erro_Planck']\n",
    "redshift = DL_DATA_PLANCK['redshift']"
   ]
  },
  {
   "cell_type": "markdown",
   "id": "750971aa-36e3-4cb3-aeff-14409d112770",
   "metadata": {},
   "source": [
    "## $f_{gas}$ data"
   ]
  },
  {
   "cell_type": "code",
   "execution_count": 4,
   "id": "c7e4eefc-0459-4f07-8d2b-ac9dcbe20385",
   "metadata": {},
   "outputs": [],
   "source": [
    "# f_gas data\n",
    "DADOS_FGAS = pd.read_csv(\"GMF.csv\")\n",
    "FGAS_OBS = DADOS_FGAS['Frac. Massa']\n",
    "ERRO_FGAS_OBS = DADOS_FGAS['Erro']"
   ]
  },
  {
   "cell_type": "markdown",
   "id": "ecec11f6-4df7-4cdd-8de5-eef27e490bdd",
   "metadata": {},
   "source": [
    "# H(z)"
   ]
  },
  {
   "cell_type": "code",
   "execution_count": 5,
   "id": "2fb48f51-bdea-4981-9ffb-a07b7d96b730",
   "metadata": {},
   "outputs": [],
   "source": [
    "def H_TH(omega_m, omega_k, h, w_x, z):\n",
    "    Omega_tot = omega_m + omega_k + ( (Omega_r_h2)/(h**2.0) )\n",
    "    if isinstance(z, (int, float)):\n",
    "        Ez = (omega_m*(1+z)**3.0 + omega_k*(1+z)**2.0 + (Omega_r_h2/h**2)*(1+z)**4.0 \\\n",
    "              + (1.0-Omega_tot)*(1+z)**(3+3*w_x))**(1/2)\n",
    "        return 100.0*h*Ez\n",
    "    \n",
    "    elif isinstance(z, np.ndarray):  \n",
    "        Ez = (omega_m*(1+z)**3.0 + omega_k*(1+z)**2.0 + (Omega_r_h2/h**2)*(1+z)**4.0 \\\n",
    "              + (1.0-Omega_tot)*(1+z)**(3+3*w_x))**(1/2)\n",
    "        return 100.0*h*Ez"
   ]
  },
  {
   "cell_type": "code",
   "execution_count": 6,
   "id": "21ca96d2-767d-45dd-a86b-6482ef02d924",
   "metadata": {},
   "outputs": [],
   "source": [
    "H0_FID = H_TH(0.31, 0, .709, -1, 0)"
   ]
  },
  {
   "cell_type": "code",
   "execution_count": 7,
   "id": "77d7a3f7-5822-4036-a2c2-aa7c069768f2",
   "metadata": {},
   "outputs": [
    {
     "data": {
      "text/plain": [
       "70.89999999999999"
      ]
     },
     "execution_count": 7,
     "metadata": {},
     "output_type": "execute_result"
    }
   ],
   "source": [
    "H0_FID"
   ]
  },
  {
   "cell_type": "markdown",
   "id": "7760c333-d98e-47cd-b7e6-68b08b20ae22",
   "metadata": {},
   "source": [
    "# Cálculo do $d_{L}$ para o $\\Lambda$-CDM\n",
    "\n",
    "A seguir definimos a função que calcula o $d_{L}$ e usamos como input o $\\Lambda$-CDM. Primeiro precisamos de uma função que faça o cálculo o $d_{C}$. Pois de:\n",
    "\n",
    "$$\n",
    "d_{L}(z) =(1+z) \\frac{c}{H_{0}\\sqrt{|\\Omega_{k}|}}  \\cdot f_k\\left( \\frac{ H_{0}\\sqrt{|\\Omega_{K}|} }{c}\\, d_{C}(z) \\right)  \\,\\,\\,\\,\\, ,\n",
    "$$\n",
    "\n",
    "sendo assim o $ f_{k} $ deve ser um de em três casos possíveis para determinados pela curvatura $k$: \n",
    "\n",
    "$$\n",
    "f_{k} = \\begin{cases}\n",
    "    \\begin{aligned}\n",
    "        &\\sin\\left(\\frac{ H_{0}\\sqrt{|\\Omega_{K}|} }{c}\\, d_{C}(z)\\right), && \\text{se }\\Omega_{k} > 0, \\\\\n",
    "        &d_{C}(z), && \\text{se }\\Omega_{k} = 0, \\\\\n",
    "        &\\sinh\\left(\\frac{ H_{0}\\sqrt{|\\Omega_{K}|} }{c}\\, d_{C}(z)\\right), && \\text{se }\\Omega_{k} < 0.\n",
    "    \\end{aligned}\n",
    "\\end{cases}\n",
    "$$\n",
    "\n",
    "sendo $d_{C}$ ,\n",
    "\n",
    "$$\n",
    "d_{C} = c \\int_{0}^{z}  \\frac{dz^{\\prime}}{H(z^{\\prime})} \\,\\,\\,\\, .\n",
    "$$   "
   ]
  },
  {
   "cell_type": "code",
   "execution_count": 8,
   "id": "52a83158-5cec-4362-b2db-d0fe002abeb7",
   "metadata": {},
   "outputs": [],
   "source": [
    "def DL_TH(param_cosmo, z):\n",
    "\n",
    "    omega_m, omega_k, h, w_x = param_cosmo\n",
    "\n",
    "    def integrando(z_prime, omega_m, omega_k, h, w_x):\n",
    "        return vel_c / H_TH(omega_m, omega_k, h, w_x, z_prime)\n",
    "    \n",
    "    dL_list = []\n",
    "    for z in z:\n",
    "        DC, erro_DC = si.quad(integrando, 0, z, args=(omega_m, omega_k, h, w_x))\n",
    "        \n",
    "        if omega_k < 0:\n",
    "            dL = (1.0 + z) * (vel_c / (100.0 * h * np.sqrt(np.abs(omega_k)))) \\\n",
    "                 * np.sin((100.0 * h * np.sqrt(np.abs(omega_k)) / vel_c) * DC)\n",
    "        elif omega_k > 0:\n",
    "            dL = (1.0 + z) * (vel_c / (100.0 * h * np.sqrt(np.abs(omega_k)))) \\\n",
    "                 * np.sinh((100.0 * h * np.sqrt(np.abs(omega_k)) / vel_c) * DC)\n",
    "        else:\n",
    "            dL = (1.0 + z) * DC\n",
    "        \n",
    "        dL_list.append(dL)\n",
    "    \n",
    "    return np.array(dL_list)"
   ]
  },
  {
   "cell_type": "code",
   "execution_count": 9,
   "id": "08baa6eb-e921-4390-b8a9-525288702ae6",
   "metadata": {},
   "outputs": [],
   "source": [
    "def DA_FID(DL,z):\n",
    "    return (DL/(1+z)**2)"
   ]
  },
  {
   "cell_type": "code",
   "execution_count": 10,
   "id": "001c889a-043d-42d2-950d-13585e6c699b",
   "metadata": {},
   "outputs": [],
   "source": [
    "param_cosmo = [0.3153, 0, 0.709, -1]"
   ]
  },
  {
   "cell_type": "code",
   "execution_count": 11,
   "id": "ca8e688b-5e88-4cbc-bd0e-4cdf207540d5",
   "metadata": {},
   "outputs": [],
   "source": [
    "DL_FIDUCIAL = DL_TH(param_cosmo, redshift)\n",
    "DA_FIDUCIAL = DA_FID(DL_FIDUCIAL, redshift)\n",
    "DA_PLANCK = DA_FID(DL_PLANCK, redshift)"
   ]
  },
  {
   "cell_type": "markdown",
   "id": "fa12d87c-ec01-4f79-a0bd-c1839196d0bc",
   "metadata": {},
   "source": [
    "## A(z)"
   ]
  },
  {
   "cell_type": "code",
   "execution_count": 12,
   "id": "e64a7208-ed6a-4f65-909e-ebba56fb513d",
   "metadata": {},
   "outputs": [],
   "source": [
    "def A(dA_obs, dA_fid, H_obs, H_fid):\n",
    "    theta = 0.442\n",
    "    return ( (H_obs*dA_obs)/(H_fid*dA_fid) )**theta"
   ]
  },
  {
   "cell_type": "code",
   "execution_count": 13,
   "id": "b723a894-d185-4af3-84af-d76125eaedff",
   "metadata": {},
   "outputs": [],
   "source": [
    "A_PLANCK = A(DA_PLANCK, DA_FIDUCIAL, H0_PLANCK, H0_FID)"
   ]
  },
  {
   "cell_type": "markdown",
   "id": "24bf5064-534b-4d0d-ae1a-b83d62784cbd",
   "metadata": {},
   "source": [
    "## $\\gamma$(z)"
   ]
  },
  {
   "cell_type": "code",
   "execution_count": 14,
   "id": "a5609102-0a63-4177-b896-ece4c611d1f6",
   "metadata": {},
   "outputs": [],
   "source": [
    "def gamma_z(redshift):\n",
    "    return gamma_0*(1 + 0.07*redshift)"
   ]
  },
  {
   "cell_type": "code",
   "execution_count": 15,
   "id": "b0d0d0ba-1911-4ec4-bb6a-f6ce75bbe0f5",
   "metadata": {},
   "outputs": [],
   "source": [
    "gamma = gamma_z(redshift)"
   ]
  },
  {
   "cell_type": "code",
   "execution_count": 16,
   "id": "c652af0b-b3f0-4e21-9a9d-8eafe0050c13",
   "metadata": {},
   "outputs": [],
   "source": [
    "def FGAS_TH(dL_obs, dL_fid, A):\n",
    "    omega_b = 0.0493\n",
    "    omega_m = 0.3153\n",
    "    \n",
    "        \n",
    "    return (  (  gamma*K*A*(omega_b/omega_m)*(  (dL_fid/dL_obs)**(3.0/2.0) ) ) )"
   ]
  },
  {
   "cell_type": "code",
   "execution_count": 17,
   "id": "faace055-53d0-4a2a-99be-1838a66ea778",
   "metadata": {},
   "outputs": [],
   "source": [
    "FGAS_PLANCK = FGAS_TH(DL_PLANCK,DL_FIDUCIAL, A_PLANCK )"
   ]
  },
  {
   "cell_type": "markdown",
   "id": "10c37775-ae9f-49d5-b2a3-50487d1436de",
   "metadata": {},
   "source": [
    "## $f_{gas}$ & $\\mu$ relation\n",
    "\n",
    "\n",
    "The gas mass $ M_{gas} (<R) $ within a radius $R$  obtained by X-ray observations can be written as [Sarazin 1988](https://ui.adsabs.harvard.edu/abs/1986RvMP...58....1S/abstract):\n",
    "\n",
    "\\begin{eqnarray}\n",
    "M_{gas}\\,  (<R) &=& \\left( \\frac{3 \\pi \\hbar m_e c^2}{2 (1+X) e^6}\n",
    "\\right)^{1/2}  \\left( \\frac{3 m_e c^2}{2 \\pi k_B T_e} \\right)^{1/4}\n",
    "m_H \\nonumber\\\\\n",
    "& &\\times \\frac{1}{[\\overline{g_B}(T_e)]^{1/2}}\n",
    "{r_c}^{3/2} \\left\n",
    "[ \\frac{I_M (R/r_c, \\beta)}{I_L^{1/2} (R/r_c, \\beta)} \\right] [L_X\n",
    "(<R)]^{1/2}\\,\\,\\,\\,\\,\\,\\,\\,\\, (1)\n",
    "\\end{eqnarray}\n",
    "\n",
    "where $X$ is the hydrogen mass fraction, $T_e$ is the gas temperature, $m_e$ and $m_H$ are the electron and hydrogen masses, respectively, $\\overline{g_B}(T_e)$ is the Gaunt factor,  $r_c$ stands for the core radius and\n",
    "\n",
    "$$\n",
    "I_M (y, \\beta) \\equiv \\int_0^y (1+x^2)^{-3 \\beta/2} x^2 dx\\;,\n",
    "$$\n",
    "$$\n",
    "I_L (y, \\beta) \\equiv \\int_0^y (1+x^2)^{-3 \\beta} x^2 dx\\;.\n",
    "$$\n",
    "\n",
    "From Eq.(1) and from $m_{H} = m_{p}(1+\\mu)$, taking acount taht the bound energy of the sistem eletron-proton is $\\sim 10^{4}$ smaller than the eletron rest mass and where $\\mu = \\frac{m_{e}}{m_{p}}$ is the electron to proton mass  ratio, so we can see that:\n",
    "\n",
    "\\begin{equation}\n",
    "M_{gas} \\, (<R) \\propto \\left(1+\\mu\\right).\n",
    "\\end{equation} \n",
    "\n",
    "On the other hand, the total mass  within a given radius $R$ can be obtained by assuming that the intracluster gas is in hydrostatic equilibrium, i.e.~[Allen 2008](https://doi.org/10.1111/j.1365-2966.2007.12610.x)\n",
    "\\begin{equation}\n",
    "M_{tot} \\,(<R) = - \\left. \\frac{k_B T_e R}{G \\mu m_H} \\frac{d \\ln\n",
    "n_e(r)}{d \\ln r} \\right|_{\\, r=R}.\n",
    "\\end{equation}\n",
    "Therefore, from we've seen for $m_{H}$ and applying to $M_{tot}$,\n",
    "\n",
    "$$\n",
    "f_{gas} \\equiv \\frac{\\left(1+\\mu\\right)^{2}M_{gas}}{M_{tot}}.\n",
    "$$\n",
    "\n",
    "## Gerando os 40 valores de $\\mu(z)$:\n",
    "\n",
    "Assim, os dados de $\\left( 1 + \\mu \\right)$ serão dados pela expressão:\n",
    "\n",
    "$$\n",
    "\\left(1 + \\mu \\right)^{2} - \\frac{ f_{gas}^{\\, obs} }{f_{gas}^{\\, th}}= 0\n",
    "$$"
   ]
  },
  {
   "cell_type": "code",
   "execution_count": 18,
   "id": "48dc9f95-5e2e-4307-8fda-e14e285183ee",
   "metadata": {},
   "outputs": [],
   "source": [
    "GMF_PLANCK = FGAS_OBS/FGAS_PLANCK\n",
    "MU_PLANCK = np.array(np.sqrt(np.abs(GMF_PLANCK)) - 1)"
   ]
  },
  {
   "cell_type": "markdown",
   "id": "8e724a7e-aa62-48a9-88ac-2b18b7e9bad4",
   "metadata": {},
   "source": [
    "## Erros\n",
    "\n",
    "O erro médio, $\\sigma^{2}_{\\text{tot}}$ é escrito como:  \n",
    "\n",
    "$$\n",
    "\\sigma^{2}_{\\text{tot}} =  \\Sigma_{n} \\, \\left[ \\frac{\\partial \\, G(X_{n})}{\\partial X_{n}}\\right]\\sigma^{2}_{X_{n}}\n",
    "$$\n",
    "\n",
    "considerando que $G(X_{n})=  \\frac{ f^{\\text{obs}}_{\\text{gás}} }{ \\bar{f} }$ temos:\n",
    "$$ \n",
    "\\sigma^{2}_{\\text{tot} } = \\left[ \\frac{\\partial}{\\partial f^{ \\text{obs}}_{\\text{gás}} } \\left(  \\frac{ f^{\\text{obs}}_{\\text{gás}} }{ \\bar{f}}\\right) \\right]^{2} \\sigma^{2}_{f^{\\text{obs}}_{\\text{gás}}} + \\left[ \\frac{\\partial}{\\partial \\bar{f} } \\left(  \\frac{ f^{\\text{obs}}_{\\text{gás}} }{ \\bar{f}}\\right) \\right]^{2} \\sigma^{2}_{\\bar{f}}\n",
    "$$\n",
    "\n",
    "e assim,\n",
    "\n",
    "$$ \n",
    " \\sigma^{2}_{\\text{tot} } = \\frac{1}{\\bar{f}^{2} } \\sigma^{2}_{f^{\\text{obs}} } + \\frac{f^{ \\text{obs}^{2} } }{\\bar{f}^{4} }\\sigma^{2}_{\\bar{f}}\n",
    "$$\n",
    "\n",
    "\n",
    "$$ \n",
    " \\sigma^{2}_{\\text{tot} } =  \\frac{f^{ \\text{obs}^{2} } }{\\bar{f}^{2} } \\left( \\frac{ \\sigma^{2}_{f^{\\text{obs}} }  }{{f}^{\\text{obs}^{2}} }  +  \\frac{ \\sigma^{2}_{\\bar{f}}  }{\\bar{f}^{2} } \\right)\n",
    "$$\n",
    "\n",
    "finalmente $ \\sigma^{2}_{\\bar{f}}$ é dado do mesmo modo:\n",
    "\n",
    "$$ \n",
    "\\sigma^{2}_{\\bar{f}} =  \\Sigma_{m} \\, \\left[ \\frac{\\partial \\, H(X_{m})}{\\partial X_{m}}\\right]\\sigma^{2}_{X_{n}}\n",
    "$$\n",
    "\n",
    "e assim,\n",
    "\n",
    "$$ \n",
    "\\sigma^{2}_{\\bar{f}} = \\left[ \\frac{\\partial }{\\partial K  } \\bar{f} \\right]^{2} \\sigma^{2}_{K} +  \\left[ \\frac{\\partial }{\\partial A  } \\bar{f} \\right]^{2} \\sigma^{2}_{A} +  \\left[ \\frac{\\partial }{\\partial \\Omega_{b}   } \\bar{f} \\right]^{2} \\sigma^{2}_{\\Omega_{b}} +  \\left[ \\frac{\\partial }{\\partial \\Omega_{m}  } \\bar{f} \\right]^{2} \\sigma^{2}_{\\Omega_{m}} +  \\left[ \\frac{\\partial }{\\partial d_{L}   } \\bar{f} \\right]^{2} \\sigma^{2}_{d_{L} } \n",
    "$$\n",
    "\n",
    "\n",
    "Portanto, o erro em relação à $\\bar{f}$,\n",
    "\n",
    "\n",
    "$$\n",
    "\\frac{\\sigma^{2}_{ \\bar{f} } }{\\bar{f}^{2} } = \\left[ \\frac{ \\sigma^{2}_{ K } }{ K^{2} } \\, + \\, \\frac{ \\sigma^{2}_{A} }{A^{2}} \\, + \\,  \\frac{\\sigma_{\\gamma}^{2}}{\\gamma^{2} }\\, + \\frac{ \\sigma^{2}_{ \\Omega_{b} } }{\\Omega_{b}^{2}} \\, + \\, \\frac{ \\sigma^{2}_{ \\Omega_{m} } }{\\Omega_{m}^{2}}  \\, + \\, \\left(\\frac{3}{2}\\right)^{2} \\frac{\\sigma^{2}_{d_{L} } }{d_{L}^{2} }  \\,   \\right ]\n",
    "$$\n",
    "\n",
    "tomando o cuidado de lembrar que:\n",
    "\n",
    "\n",
    "$$\n",
    " \\sigma^{2}_{A}  =  \\left( \\frac{\\partial A}{ \\partial \\theta } \\right)^{2} \\sigma^{2}_{\\theta} \n",
    "$$\n",
    "\n",
    "isto é,\n",
    "\n",
    "$$\n",
    "\\sigma^{2}_{A} = \\left( \\mbox{log}\\, A\\right)^{2} \\sigma^{2}_{\\theta}\n",
    "$$\n",
    "\n",
    "Concluí-se que a expressão final para o erro médio, no primeiro modelo é:\n",
    "\n",
    "$$\n",
    "\\sigma^{2}_{\\text{tot} } = \\frac{f^{ \\text{obs}^{2} } }{{f}^{th\\,\\, 2} } \\left[ \\frac{ \\sigma^{2}_{f^{\\text{obs}} }  }{{f}^{\\text{obs}^{2}} } \\, + \\, \\frac{ \\sigma^{2}_{ K } }{ K^{2} } \\, + \\, \\frac{\\sigma_{\\gamma}^{2}}{\\gamma^{2} }\\, + \\, \\frac{\\left( \\mbox{log}\\, A\\right)^{2} \\sigma^{2}_{\\theta}}{A^{2}} \\, + \\,  \\frac{ \\sigma^{2}_{ \\Omega_{b} } }{\\Omega_{b}^{2}} \\, + \\,  \\frac{ \\sigma^{2}_{ \\Omega_{m} } }{\\Omega_{m}^{2}}  \\, + \\, \\left(\\frac{3}{2}\\right)^{2} \\frac{\\sigma^{2}_{d_{L} } }{d_{L}^{2} }  \\,    \\right ]\n",
    "$$"
   ]
  },
  {
   "cell_type": "code",
   "execution_count": 19,
   "id": "44d8bab5-c81c-4064-8409-736c57bd1aaa",
   "metadata": {},
   "outputs": [],
   "source": [
    "sigma_K = 0.12\n",
    "sigma_gamma = 0.11\n",
    "sigma_omega_b = 0.0039\n",
    "sigma_omega_m= 0.0073\n",
    "sigma_theta = 0.035"
   ]
  },
  {
   "cell_type": "code",
   "execution_count": 20,
   "id": "f9cff0db-a4a8-4ad8-b75b-4a0024e3c14e",
   "metadata": {},
   "outputs": [],
   "source": [
    "def propagated_error_tot(f_obs, sigma_f_obs, f_th, sigma_K, K,\n",
    "                         sigma_gamma, gamma, A, sigma_theta, \n",
    "                         sigma_omega_b, omega_b, sigma_omega_m, omega_m, \n",
    "                         sigma_d_L, d_L):\n",
    "\n",
    "    \n",
    "    term_1 = (sigma_f_obs ** 2) / (f_obs ** 2)\n",
    "    term_2 = (sigma_K ** 2) / (K ** 2)\n",
    "    term_3 = (sigma_gamma ** 2) / (gamma ** 2)\n",
    "    term_4 = ((np.log(A) ** 2) * (sigma_theta ** 2)) / (A ** 2)\n",
    "    term_5 = (sigma_omega_b ** 2) / (omega_b ** 2)\n",
    "    term_6 = (sigma_omega_m ** 2) / (omega_m ** 2)\n",
    "    term_7 = (3 / 2) ** 2 * (sigma_d_L ** 2) / (d_L ** 2)\n",
    "\n",
    "    sigma_tot_squared = (f_obs ** 2 / f_th ** 2) * (term_1 + term_2 + term_3 + term_4 + term_5 + term_6 + term_7)\n",
    "\n",
    "    return np.sqrt(sigma_tot_squared)"
   ]
  },
  {
   "cell_type": "code",
   "execution_count": 21,
   "id": "64f8caab-0feb-4536-b937-5f8a4c523882",
   "metadata": {},
   "outputs": [],
   "source": [
    "erro_mu_PLANCK = propagated_error_tot( FGAS_OBS, ERRO_FGAS_OBS, FGAS_PLANCK,\n",
    "                                sigma_K, K, sigma_gamma, gamma, A_PLANCK, sigma_theta,\n",
    "                                sigma_omega_b, omega_b, sigma_omega_m, omega_m, \n",
    "                                ERRO_DL_PLANCK, DL_PLANCK)"
   ]
  },
  {
   "cell_type": "code",
   "execution_count": 22,
   "id": "376a7faf-c3b0-469f-a04f-d30e279b13ca",
   "metadata": {},
   "outputs": [],
   "source": [
    "def delta_mu_with_error(muZ, errors):\n",
    "    delta_mu = []\n",
    "    delta_error = []\n",
    "    \n",
    "    for i in range(len(muZ) - 1):\n",
    "        delta = muZ[i + 1] - muZ[i]\n",
    "        \n",
    "        delta_err = np.sqrt(errors[i + 1]**2 + errors[i]**2)\n",
    "        \n",
    "        delta_mu.append(delta)\n",
    "        delta_error.append(delta_err)\n",
    "    \n",
    "    return np.array(delta_mu), np.array(delta_error)"
   ]
  },
  {
   "cell_type": "code",
   "execution_count": 23,
   "id": "ea8b15f6-81a1-472c-b940-e319b5e68f12",
   "metadata": {},
   "outputs": [],
   "source": [
    "Delta_MU_PLANCK, erro_delta_mu_PLANCK = delta_mu_with_error(MU_PLANCK, erro_mu_PLANCK)"
   ]
  },
  {
   "cell_type": "code",
   "execution_count": 24,
   "id": "7032380d-cf98-464e-a200-2cea6edb2783",
   "metadata": {},
   "outputs": [
    {
     "name": "stdout",
     "output_type": "stream",
     "text": [
      "Δμ(z) médio = -0.006366790382630789\n",
      "Erros médio de Δμ(z) = 0.27271808360032035\n"
     ]
    }
   ],
   "source": [
    "print(\"Δμ(z) médio =\", Delta_MU_PLANCK.mean())\n",
    "print(\"Erros médio de Δμ(z) =\", erro_mu_PLANCK.mean())"
   ]
  },
  {
   "cell_type": "markdown",
   "id": "4155c035-e895-449d-b3b3-e408b416cf06",
   "metadata": {},
   "source": [
    "### The mean value of $\\Delta \\mu$ ( w/&nbsp; Planck data ):\n",
    "\n",
    "$$\n",
    "\\Delta \\mu_{PLANCK} = - 6.3 \\cdot 10^{-3} \\pm 2.7\\cdot 10^{-1}\n",
    "$$"
   ]
  },
  {
   "cell_type": "code",
   "execution_count": 25,
   "id": "37b8ba91-6163-48f6-a8e1-7f1f94f5017d",
   "metadata": {},
   "outputs": [],
   "source": [
    "data_mu_planck = {'redshift': redshift, 'mu':MU_PLANCK, 'mu_ERR':erro_mu_PLANCK}\n",
    "mu0 = pd.Series({'redshift': 0, 'mu': 1/1837, 'mu_ERR':erro_mu_0 })\n",
    "\n",
    "MU_DATA_PLANCK = pd.DataFrame(data_mu_planck)\n",
    "MU_DATA_PLANCK = pd.concat([MU_DATA_PLANCK, pd.DataFrame([mu0])], ignore_index=True)\n",
    "\n",
    "MU_DATA_PLANCK.to_csv(\"MU_DATA_PLANCK_ARTIGO-REVIEW.csv\", index=False)"
   ]
  },
  {
   "cell_type": "markdown",
   "id": "44f43552-cae9-419f-898c-c91b3441af5f",
   "metadata": {},
   "source": [
    "## GPR for $\\mu(z)$"
   ]
  },
  {
   "cell_type": "markdown",
   "id": "bc642ed4-0c28-4a30-8e95-a604568d0d3e",
   "metadata": {},
   "source": [
    "### load data"
   ]
  },
  {
   "cell_type": "code",
   "execution_count": 26,
   "id": "2e2141f8-24d1-4524-8d7b-ed18c97de839",
   "metadata": {},
   "outputs": [],
   "source": [
    "data = pd.read_csv(\"MU_DATA_PLANCK_ARTIGO-REVIEW.csv\")\n",
    "MU_PLANCK = data[\"mu\"]\n",
    "redshift = data[\"redshift\"]\n",
    "err_mu = data[\"mu_ERR\"]"
   ]
  },
  {
   "cell_type": "markdown",
   "id": "24498934-7eec-4843-8144-17a60b74a794",
   "metadata": {},
   "source": [
    "### plot data"
   ]
  },
  {
   "cell_type": "code",
   "execution_count": 27,
   "id": "7a6d9ac6-2b6b-4d11-a08c-421c962373d9",
   "metadata": {},
   "outputs": [
    {
     "data": {
      "image/png": "[encoded data removed]",
      "text/plain": [
       "<Figure size 1100x600 with 1 Axes>"
      ]
     },
     "metadata": {},
     "output_type": "display_data"
    }
   ],
   "source": [
    "fig, ax = plt.subplots(figsize=(11, 6))\n",
    "ax.errorbar(np.array(redshift), MU_PLANCK, yerr=err_mu, fmt=\"o\", color=\"#D35400\", \n",
    "            label=r'$\\mu(z)$ prior Planck')\n",
    "ax.grid(True, linestyle='--', alpha=0.15)\n",
    "ax.set_facecolor('#FDFEFE')\n",
    "ax.set_xlim(0.0, 1.071)\n",
    "ax.set_xlabel('z', fontsize = '16')\n",
    "ax.set_ylabel(r'$\\mu$(z)', rotation=0, labelpad=15, fontsize='16')\n",
    "\n",
    "legend_errorbar = ax.legend(loc='lower left', fontsize='small')\n",
    "legend_hline = ax.legend(loc='upper right', fontsize='small')"
   ]
  },
  {
   "cell_type": "markdown",
   "id": "4e47ad72-3630-4698-a815-f91d34f87b68",
   "metadata": {},
   "source": [
    "### define variables"
   ]
  },
  {
   "cell_type": "code",
   "execution_count": 28,
   "id": "72ccbe8b-3a71-4df9-bbb6-5ada4a5ee28e",
   "metadata": {},
   "outputs": [],
   "source": [
    "X = np.array(redshift).reshape(41,1)\n",
    "Y = MU_PLANCK\n",
    "X_star = np.linspace(0, 1.7, 41).reshape(41,1)"
   ]
  },
  {
   "cell_type": "markdown",
   "id": "d90b5686-2e12-4736-b6fc-2d3aa646d4c0",
   "metadata": {},
   "source": [
    "### optimize parameters (via random search)"
   ]
  },
  {
   "cell_type": "code",
   "execution_count": 29,
   "id": "7658b6ed-8aff-4bec-b2b9-89cf5a2d2daf",
   "metadata": {},
   "outputs": [],
   "source": [
    "def random_searchP(x, y, n): \n",
    "    best_score = -np.inf \n",
    "    best_params = None\n",
    "\n",
    "    for _ in range(n):\n",
    "        constant_value_1= np.random.uniform(1e-6, 1.5e-6)\n",
    "        l = np.random.uniform(1, 4)\n",
    "\n",
    "        kernel =C(constant_value=constant_value_1)*RBF(length_scale=l)\n",
    "        model = GaussianProcessRegressor(kernel=kernel, alpha=41e-3)\n",
    "\n",
    "        model.fit(x, y)\n",
    "\n",
    "        score = model.score(x, y)\n",
    "\n",
    "        if score > best_score:\n",
    "            best_score = score\n",
    "            best_params = { 'C1':constant_value_1, 'l':l}\n",
    "\n",
    "    # mse\n",
    "    y_pred = model.predict(x)\n",
    "    mse = mean_squared_error(y, y_pred)\n",
    "    \n",
    "    print(\"Erro Quadrado Médio:\", mse)                       \n",
    "    return best_params, best_score\n"
   ]
  },
  {
   "cell_type": "code",
   "execution_count": 30,
   "id": "da98a8ea-ea5c-44a9-8229-6309e93fae75",
   "metadata": {},
   "outputs": [],
   "source": [
    "# define number of iterations\n",
    "n_int = 250"
   ]
  },
  {
   "cell_type": "code",
   "execution_count": 31,
   "id": "76da7199-ed6d-4789-9ed2-3aed787452ea",
   "metadata": {},
   "outputs": [
    {
     "name": "stdout",
     "output_type": "stream",
     "text": [
      "Erro Quadrado Médio: 0.008314432115869413\n"
     ]
    }
   ],
   "source": [
    "best_params_PLANCK, best_score_PLANCK = random_searchP(X,Y, n_int)"
   ]
  },
  {
   "cell_type": "code",
   "execution_count": 32,
   "id": "ebbdf0c4-6969-46f1-9fc8-7bfd8db876e3",
   "metadata": {},
   "outputs": [
    {
     "name": "stdout",
     "output_type": "stream",
     "text": [
      "Melhores parâmetros encontrados para PLANCK:\n",
      "\n",
      "C1: 0.0000\n",
      "l: 1.0990\n",
      "\n",
      "Best score para PLANCK:\n",
      "\n",
      "-0.0378\n"
     ]
    }
   ],
   "source": [
    "print(\"Melhores parâmetros encontrados para PLANCK:\\n\")\n",
    "for key, value in best_params_PLANCK.items():\n",
    "    print(f\"{key}: {value:.4f}\")\n",
    "print(\"\")\n",
    "print(\"Best score para PLANCK:\\n\")\n",
    "print(f\"{best_score_PLANCK:.4f}\")"
   ]
  },
  {
   "cell_type": "code",
   "execution_count": 33,
   "id": "09f91443-ebda-4efb-901d-9406af2a3015",
   "metadata": {},
   "outputs": [],
   "source": [
    "constant1_PLANCK = best_params_PLANCK['C1']\n",
    "l_PLANCK = best_params_PLANCK['l']"
   ]
  },
  {
   "cell_type": "markdown",
   "id": "eb9e5a1c-31c2-4976-98be-01441eb6acef",
   "metadata": {},
   "source": [
    "###  model fit"
   ]
  },
  {
   "cell_type": "code",
   "execution_count": 34,
   "id": "1c4d8738-f67c-4d28-bc5d-ab05ff7ef791",
   "metadata": {},
   "outputs": [],
   "source": [
    "# define kernel\n",
    "kernel_PLANCK =  C(constant_value=constant1_PLANCK)* RBF(length_scale=l_PLANCK)"
   ]
  },
  {
   "cell_type": "code",
   "execution_count": 35,
   "id": "d3eebdf6-22c3-4921-9026-0f2c1deea054",
   "metadata": {},
   "outputs": [],
   "source": [
    "# generate gaussian process regressor\n",
    "muGPR_PLANCK = GaussianProcessRegressor(kernel=kernel_PLANCK, alpha=1e-4, normalize_y=True)"
   ]
  },
  {
   "cell_type": "code",
   "execution_count": 36,
   "id": "ddf5fd2d-ed4c-4bae-95d2-f0c114cc659b",
   "metadata": {},
   "outputs": [
    {
     "data": {
      "text/html": [
       "<style>#sk-container-id-1 {\n",
       "  /* Definition of color scheme common for light and dark mode */\n",
       "  --sklearn-color-text: #000;\n",
       "  --sklearn-color-text-muted: #666;\n",
       "  --sklearn-color-line: gray;\n",
       "  /* Definition of color scheme for unfitted estimators */\n",
       "  --sklearn-color-unfitted-level-0: #fff5e6;\n",
       "  --sklearn-color-unfitted-level-1: #f6e4d2;\n",
       "  --sklearn-color-unfitted-level-2: #ffe0b3;\n",
       "  --sklearn-color-unfitted-level-3: chocolate;\n",
       "  /* Definition of color scheme for fitted estimators */\n",
       "  --sklearn-color-fitted-level-0: #f0f8ff;\n",
       "  --sklearn-color-fitted-level-1: #d4ebff;\n",
       "  --sklearn-color-fitted-level-2: #b3dbfd;\n",
       "  --sklearn-color-fitted-level-3: cornflowerblue;\n",
       "\n",
       "  /* Specific color for light theme */\n",
       "  --sklearn-color-text-on-default-background: var(--sg-text-color, var(--theme-code-foreground, var(--jp-content-font-color1, black)));\n",
       "  --sklearn-color-background: var(--sg-background-color, var(--theme-background, var(--jp-layout-color0, white)));\n",
       "  --sklearn-color-border-box: var(--sg-text-color, var(--theme-code-foreground, var(--jp-content-font-color1, black)));\n",
       "  --sklearn-color-icon: #696969;\n",
       "\n",
       "  @media (prefers-color-scheme: dark) {\n",
       "    /* Redefinition of color scheme for dark theme */\n",
       "    --sklearn-color-text-on-default-background: var(--sg-text-color, var(--theme-code-foreground, var(--jp-content-font-color1, white)));\n",
       "    --sklearn-color-background: var(--sg-background-color, var(--theme-background, var(--jp-layout-color0, #111)));\n",
       "    --sklearn-color-border-box: var(--sg-text-color, var(--theme-code-foreground, var(--jp-content-font-color1, white)));\n",
       "    --sklearn-color-icon: #878787;\n",
       "  }\n",
       "}\n",
       "\n",
       "#sk-container-id-1 {\n",
       "  color: var(--sklearn-color-text);\n",
       "}\n",
       "\n",
       "#sk-container-id-1 pre {\n",
       "  padding: 0;\n",
       "}\n",
       "\n",
       "#sk-container-id-1 input.sk-hidden--visually {\n",
       "  border: 0;\n",
       "  clip: rect(1px 1px 1px 1px);\n",
       "  clip: rect(1px, 1px, 1px, 1px);\n",
       "  height: 1px;\n",
       "  margin: -1px;\n",
       "  overflow: hidden;\n",
       "  padding: 0;\n",
       "  position: absolute;\n",
       "  width: 1px;\n",
       "}\n",
       "\n",
       "#sk-container-id-1 div.sk-dashed-wrapped {\n",
       "  border: 1px dashed var(--sklearn-color-line);\n",
       "  margin: 0 0.4em 0.5em 0.4em;\n",
       "  box-sizing: border-box;\n",
       "  padding-bottom: 0.4em;\n",
       "  background-color: var(--sklearn-color-background);\n",
       "}\n",
       "\n",
       "#sk-container-id-1 div.sk-container {\n",
       "  /* jupyter's `normalize.less` sets `[hidden] { display: none; }`\n",
       "     but bootstrap.min.css set `[hidden] { display: none !important; }`\n",
       "     so we also need the `!important` here to be able to override the\n",
       "     default hidden behavior on the sphinx rendered scikit-learn.org.\n",
       "     See: https://github.com/scikit-learn/scikit-learn/issues/21755 */\n",
       "  display: inline-block !important;\n",
       "  position: relative;\n",
       "}\n",
       "\n",
       "#sk-container-id-1 div.sk-text-repr-fallback {\n",
       "  display: none;\n",
       "}\n",
       "\n",
       "div.sk-parallel-item,\n",
       "div.sk-serial,\n",
       "div.sk-item {\n",
       "  /* draw centered vertical line to link estimators */\n",
       "  background-image: linear-gradient(var(--sklearn-color-text-on-default-background), var(--sklearn-color-text-on-default-background));\n",
       "  background-size: 2px 100%;\n",
       "  background-repeat: no-repeat;\n",
       "  background-position: center center;\n",
       "}\n",
       "\n",
       "/* Parallel-specific style estimator block */\n",
       "\n",
       "#sk-container-id-1 div.sk-parallel-item::after {\n",
       "  content: \"\";\n",
       "  width: 100%;\n",
       "  border-bottom: 2px solid var(--sklearn-color-text-on-default-background);\n",
       "  flex-grow: 1;\n",
       "}\n",
       "\n",
       "#sk-container-id-1 div.sk-parallel {\n",
       "  display: flex;\n",
       "  align-items: stretch;\n",
       "  justify-content: center;\n",
       "  background-color: var(--sklearn-color-background);\n",
       "  position: relative;\n",
       "}\n",
       "\n",
       "#sk-container-id-1 div.sk-parallel-item {\n",
       "  display: flex;\n",
       "  flex-direction: column;\n",
       "}\n",
       "\n",
       "#sk-container-id-1 div.sk-parallel-item:first-child::after {\n",
       "  align-self: flex-end;\n",
       "  width: 50%;\n",
       "}\n",
       "\n",
       "#sk-container-id-1 div.sk-parallel-item:last-child::after {\n",
       "  align-self: flex-start;\n",
       "  width: 50%;\n",
       "}\n",
       "\n",
       "#sk-container-id-1 div.sk-parallel-item:only-child::after {\n",
       "  width: 0;\n",
       "}\n",
       "\n",
       "/* Serial-specific style estimator block */\n",
       "\n",
       "#sk-container-id-1 div.sk-serial {\n",
       "  display: flex;\n",
       "  flex-direction: column;\n",
       "  align-items: center;\n",
       "  background-color: var(--sklearn-color-background);\n",
       "  padding-right: 1em;\n",
       "  padding-left: 1em;\n",
       "}\n",
       "\n",
       "\n",
       "/* Toggleable style: style used for estimator/Pipeline/ColumnTransformer box that is\n",
       "clickable and can be expanded/collapsed.\n",
       "- Pipeline and ColumnTransformer use this feature and define the default style\n",
       "- Estimators will overwrite some part of the style using the `sk-estimator` class\n",
       "*/\n",
       "\n",
       "/* Pipeline and ColumnTransformer style (default) */\n",
       "\n",
       "#sk-container-id-1 div.sk-toggleable {\n",
       "  /* Default theme specific background. It is overwritten whether we have a\n",
       "  specific estimator or a Pipeline/ColumnTransformer */\n",
       "  background-color: var(--sklearn-color-background);\n",
       "}\n",
       "\n",
       "/* Toggleable label */\n",
       "#sk-container-id-1 label.sk-toggleable__label {\n",
       "  cursor: pointer;\n",
       "  display: flex;\n",
       "  width: 100%;\n",
       "  margin-bottom: 0;\n",
       "  padding: 0.5em;\n",
       "  box-sizing: border-box;\n",
       "  text-align: center;\n",
       "  align-items: start;\n",
       "  justify-content: space-between;\n",
       "  gap: 0.5em;\n",
       "}\n",
       "\n",
       "#sk-container-id-1 label.sk-toggleable__label .caption {\n",
       "  font-size: 0.6rem;\n",
       "  font-weight: lighter;\n",
       "  color: var(--sklearn-color-text-muted);\n",
       "}\n",
       "\n",
       "#sk-container-id-1 label.sk-toggleable__label-arrow:before {\n",
       "  /* Arrow on the left of the label */\n",
       "  content: \"▸\";\n",
       "  float: left;\n",
       "  margin-right: 0.25em;\n",
       "  color: var(--sklearn-color-icon);\n",
       "}\n",
       "\n",
       "#sk-container-id-1 label.sk-toggleable__label-arrow:hover:before {\n",
       "  color: var(--sklearn-color-text);\n",
       "}\n",
       "\n",
       "/* Toggleable content - dropdown */\n",
       "\n",
       "#sk-container-id-1 div.sk-toggleable__content {\n",
       "  max-height: 0;\n",
       "  max-width: 0;\n",
       "  overflow: hidden;\n",
       "  text-align: left;\n",
       "  /* unfitted */\n",
       "  background-color: var(--sklearn-color-unfitted-level-0);\n",
       "}\n",
       "\n",
       "#sk-container-id-1 div.sk-toggleable__content.fitted {\n",
       "  /* fitted */\n",
       "  background-color: var(--sklearn-color-fitted-level-0);\n",
       "}\n",
       "\n",
       "#sk-container-id-1 div.sk-toggleable__content pre {\n",
       "  margin: 0.2em;\n",
       "  border-radius: 0.25em;\n",
       "  color: var(--sklearn-color-text);\n",
       "  /* unfitted */\n",
       "  background-color: var(--sklearn-color-unfitted-level-0);\n",
       "}\n",
       "\n",
       "#sk-container-id-1 div.sk-toggleable__content.fitted pre {\n",
       "  /* unfitted */\n",
       "  background-color: var(--sklearn-color-fitted-level-0);\n",
       "}\n",
       "\n",
       "#sk-container-id-1 input.sk-toggleable__control:checked~div.sk-toggleable__content {\n",
       "  /* Expand drop-down */\n",
       "  max-height: 200px;\n",
       "  max-width: 100%;\n",
       "  overflow: auto;\n",
       "}\n",
       "\n",
       "#sk-container-id-1 input.sk-toggleable__control:checked~label.sk-toggleable__label-arrow:before {\n",
       "  content: \"▾\";\n",
       "}\n",
       "\n",
       "/* Pipeline/ColumnTransformer-specific style */\n",
       "\n",
       "#sk-container-id-1 div.sk-label input.sk-toggleable__control:checked~label.sk-toggleable__label {\n",
       "  color: var(--sklearn-color-text);\n",
       "  background-color: var(--sklearn-color-unfitted-level-2);\n",
       "}\n",
       "\n",
       "#sk-container-id-1 div.sk-label.fitted input.sk-toggleable__control:checked~label.sk-toggleable__label {\n",
       "  background-color: var(--sklearn-color-fitted-level-2);\n",
       "}\n",
       "\n",
       "/* Estimator-specific style */\n",
       "\n",
       "/* Colorize estimator box */\n",
       "#sk-container-id-1 div.sk-estimator input.sk-toggleable__control:checked~label.sk-toggleable__label {\n",
       "  /* unfitted */\n",
       "  background-color: var(--sklearn-color-unfitted-level-2);\n",
       "}\n",
       "\n",
       "#sk-container-id-1 div.sk-estimator.fitted input.sk-toggleable__control:checked~label.sk-toggleable__label {\n",
       "  /* fitted */\n",
       "  background-color: var(--sklearn-color-fitted-level-2);\n",
       "}\n",
       "\n",
       "#sk-container-id-1 div.sk-label label.sk-toggleable__label,\n",
       "#sk-container-id-1 div.sk-label label {\n",
       "  /* The background is the default theme color */\n",
       "  color: var(--sklearn-color-text-on-default-background);\n",
       "}\n",
       "\n",
       "/* On hover, darken the color of the background */\n",
       "#sk-container-id-1 div.sk-label:hover label.sk-toggleable__label {\n",
       "  color: var(--sklearn-color-text);\n",
       "  background-color: var(--sklearn-color-unfitted-level-2);\n",
       "}\n",
       "\n",
       "/* Label box, darken color on hover, fitted */\n",
       "#sk-container-id-1 div.sk-label.fitted:hover label.sk-toggleable__label.fitted {\n",
       "  color: var(--sklearn-color-text);\n",
       "  background-color: var(--sklearn-color-fitted-level-2);\n",
       "}\n",
       "\n",
       "/* Estimator label */\n",
       "\n",
       "#sk-container-id-1 div.sk-label label {\n",
       "  font-family: monospace;\n",
       "  font-weight: bold;\n",
       "  display: inline-block;\n",
       "  line-height: 1.2em;\n",
       "}\n",
       "\n",
       "#sk-container-id-1 div.sk-label-container {\n",
       "  text-align: center;\n",
       "}\n",
       "\n",
       "/* Estimator-specific */\n",
       "#sk-container-id-1 div.sk-estimator {\n",
       "  font-family: monospace;\n",
       "  border: 1px dotted var(--sklearn-color-border-box);\n",
       "  border-radius: 0.25em;\n",
       "  box-sizing: border-box;\n",
       "  margin-bottom: 0.5em;\n",
       "  /* unfitted */\n",
       "  background-color: var(--sklearn-color-unfitted-level-0);\n",
       "}\n",
       "\n",
       "#sk-container-id-1 div.sk-estimator.fitted {\n",
       "  /* fitted */\n",
       "  background-color: var(--sklearn-color-fitted-level-0);\n",
       "}\n",
       "\n",
       "/* on hover */\n",
       "#sk-container-id-1 div.sk-estimator:hover {\n",
       "  /* unfitted */\n",
       "  background-color: var(--sklearn-color-unfitted-level-2);\n",
       "}\n",
       "\n",
       "#sk-container-id-1 div.sk-estimator.fitted:hover {\n",
       "  /* fitted */\n",
       "  background-color: var(--sklearn-color-fitted-level-2);\n",
       "}\n",
       "\n",
       "/* Specification for estimator info (e.g. \"i\" and \"?\") */\n",
       "\n",
       "/* Common style for \"i\" and \"?\" */\n",
       "\n",
       ".sk-estimator-doc-link,\n",
       "a:link.sk-estimator-doc-link,\n",
       "a:visited.sk-estimator-doc-link {\n",
       "  float: right;\n",
       "  font-size: smaller;\n",
       "  line-height: 1em;\n",
       "  font-family: monospace;\n",
       "  background-color: var(--sklearn-color-background);\n",
       "  border-radius: 1em;\n",
       "  height: 1em;\n",
       "  width: 1em;\n",
       "  text-decoration: none !important;\n",
       "  margin-left: 0.5em;\n",
       "  text-align: center;\n",
       "  /* unfitted */\n",
       "  border: var(--sklearn-color-unfitted-level-1) 1pt solid;\n",
       "  color: var(--sklearn-color-unfitted-level-1);\n",
       "}\n",
       "\n",
       ".sk-estimator-doc-link.fitted,\n",
       "a:link.sk-estimator-doc-link.fitted,\n",
       "a:visited.sk-estimator-doc-link.fitted {\n",
       "  /* fitted */\n",
       "  border: var(--sklearn-color-fitted-level-1) 1pt solid;\n",
       "  color: var(--sklearn-color-fitted-level-1);\n",
       "}\n",
       "\n",
       "/* On hover */\n",
       "div.sk-estimator:hover .sk-estimator-doc-link:hover,\n",
       ".sk-estimator-doc-link:hover,\n",
       "div.sk-label-container:hover .sk-estimator-doc-link:hover,\n",
       ".sk-estimator-doc-link:hover {\n",
       "  /* unfitted */\n",
       "  background-color: var(--sklearn-color-unfitted-level-3);\n",
       "  color: var(--sklearn-color-background);\n",
       "  text-decoration: none;\n",
       "}\n",
       "\n",
       "div.sk-estimator.fitted:hover .sk-estimator-doc-link.fitted:hover,\n",
       ".sk-estimator-doc-link.fitted:hover,\n",
       "div.sk-label-container:hover .sk-estimator-doc-link.fitted:hover,\n",
       ".sk-estimator-doc-link.fitted:hover {\n",
       "  /* fitted */\n",
       "  background-color: var(--sklearn-color-fitted-level-3);\n",
       "  color: var(--sklearn-color-background);\n",
       "  text-decoration: none;\n",
       "}\n",
       "\n",
       "/* Span, style for the box shown on hovering the info icon */\n",
       ".sk-estimator-doc-link span {\n",
       "  display: none;\n",
       "  z-index: 9999;\n",
       "  position: relative;\n",
       "  font-weight: normal;\n",
       "  right: .2ex;\n",
       "  padding: .5ex;\n",
       "  margin: .5ex;\n",
       "  width: min-content;\n",
       "  min-width: 20ex;\n",
       "  max-width: 50ex;\n",
       "  color: var(--sklearn-color-text);\n",
       "  box-shadow: 2pt 2pt 4pt #999;\n",
       "  /* unfitted */\n",
       "  background: var(--sklearn-color-unfitted-level-0);\n",
       "  border: .5pt solid var(--sklearn-color-unfitted-level-3);\n",
       "}\n",
       "\n",
       ".sk-estimator-doc-link.fitted span {\n",
       "  /* fitted */\n",
       "  background: var(--sklearn-color-fitted-level-0);\n",
       "  border: var(--sklearn-color-fitted-level-3);\n",
       "}\n",
       "\n",
       ".sk-estimator-doc-link:hover span {\n",
       "  display: block;\n",
       "}\n",
       "\n",
       "/* \"?\"-specific style due to the `<a>` HTML tag */\n",
       "\n",
       "#sk-container-id-1 a.estimator_doc_link {\n",
       "  float: right;\n",
       "  font-size: 1rem;\n",
       "  line-height: 1em;\n",
       "  font-family: monospace;\n",
       "  background-color: var(--sklearn-color-background);\n",
       "  border-radius: 1rem;\n",
       "  height: 1rem;\n",
       "  width: 1rem;\n",
       "  text-decoration: none;\n",
       "  /* unfitted */\n",
       "  color: var(--sklearn-color-unfitted-level-1);\n",
       "  border: var(--sklearn-color-unfitted-level-1) 1pt solid;\n",
       "}\n",
       "\n",
       "#sk-container-id-1 a.estimator_doc_link.fitted {\n",
       "  /* fitted */\n",
       "  border: var(--sklearn-color-fitted-level-1) 1pt solid;\n",
       "  color: var(--sklearn-color-fitted-level-1);\n",
       "}\n",
       "\n",
       "/* On hover */\n",
       "#sk-container-id-1 a.estimator_doc_link:hover {\n",
       "  /* unfitted */\n",
       "  background-color: var(--sklearn-color-unfitted-level-3);\n",
       "  color: var(--sklearn-color-background);\n",
       "  text-decoration: none;\n",
       "}\n",
       "\n",
       "#sk-container-id-1 a.estimator_doc_link.fitted:hover {\n",
       "  /* fitted */\n",
       "  background-color: var(--sklearn-color-fitted-level-3);\n",
       "}\n",
       "</style><div id=\"sk-container-id-1\" class=\"sk-top-container\"><div class=\"sk-text-repr-fallback\"><pre>GaussianProcessRegressor(alpha=0.0001,\n",
       "                         kernel=0.00118**2 * RBF(length_scale=1.1),\n",
       "                         normalize_y=True)</pre><b>In a Jupyter environment, please rerun this cell to show the HTML representation or trust the notebook. <br />On GitHub, the HTML representation is unable to render, please try loading this page with nbviewer.org.</b></div><div class=\"sk-container\" hidden><div class=\"sk-item\"><div class=\"sk-estimator fitted sk-toggleable\"><input class=\"sk-toggleable__control sk-hidden--visually\" id=\"sk-estimator-id-1\" type=\"checkbox\" checked><label for=\"sk-estimator-id-1\" class=\"sk-toggleable__label fitted sk-toggleable__label-arrow\"><div><div>GaussianProcessRegressor</div></div><div><a class=\"sk-estimator-doc-link fitted\" rel=\"noreferrer\" target=\"_blank\" href=\"https://scikit-learn.org/1.6/modules/generated/sklearn.gaussian_process.GaussianProcessRegressor.html\">?<span>Documentation for GaussianProcessRegressor</span></a><span class=\"sk-estimator-doc-link fitted\">i<span>Fitted</span></span></div></label><div class=\"sk-toggleable__content fitted\"><pre>GaussianProcessRegressor(alpha=0.0001,\n",
       "                         kernel=0.00118**2 * RBF(length_scale=1.1),\n",
       "                         normalize_y=True)</pre></div> </div></div></div></div>"
      ],
      "text/plain": [
       "GaussianProcessRegressor(alpha=0.0001,\n",
       "                         kernel=0.00118**2 * RBF(length_scale=1.1),\n",
       "                         normalize_y=True)"
      ]
     },
     "execution_count": 36,
     "metadata": {},
     "output_type": "execute_result"
    }
   ],
   "source": [
    "# model fit\n",
    "muGPR_PLANCK.fit(X, Y)"
   ]
  },
  {
   "cell_type": "markdown",
   "id": "8db819e0-c1ec-429c-8c77-69c89fd2188b",
   "metadata": {},
   "source": [
    "### model predict"
   ]
  },
  {
   "cell_type": "code",
   "execution_count": 37,
   "id": "6c545dbf-2103-438b-9f30-8c04b9de1f2b",
   "metadata": {},
   "outputs": [],
   "source": [
    "Y_pred_PLANCK, std_PLANCK = muGPR_PLANCK.predict(X_star, return_std=True)"
   ]
  },
  {
   "cell_type": "code",
   "execution_count": 38,
   "id": "dcb8f0f6-6029-49e7-8964-199a5e468f25",
   "metadata": {},
   "outputs": [
    {
     "name": "stdout",
     "output_type": "stream",
     "text": [
      "Valor previsto de mu para z=0: 0.0005500589483593554\n",
      "Erro associado ao valor previsto de mu para z=0: 0.0008950460497906155\n"
     ]
    }
   ],
   "source": [
    "mu_pred_z_0 = Y_pred_PLANCK[0]\n",
    "std_mu_pred_z_0 = std_PLANCK[0]\n",
    "\n",
    "print(\"Valor previsto de mu para z=0:\", mu_pred_z_0)\n",
    "print(\"Erro associado ao valor previsto de mu para z=0:\", std_mu_pred_z_0)"
   ]
  },
  {
   "cell_type": "markdown",
   "id": "8c1254ed-e829-4374-b936-14431848d45f",
   "metadata": {},
   "source": [
    "### plot results"
   ]
  },
  {
   "cell_type": "code",
   "execution_count": 39,
   "id": "67aedd5c-e184-4296-b522-ab7c3411fa1f",
   "metadata": {},
   "outputs": [
    {
     "data": {
      "image/png": "[encoded data removed]",
      "text/plain": [
       "<Figure size 900x500 with 1 Axes>"
      ]
     },
     "metadata": {},
     "output_type": "display_data"
    }
   ],
   "source": [
    "fig, ax = plt.subplots(figsize=(9, 5))\n",
    "plt.errorbar(np.array(redshift), MU_PLANCK, yerr=err_mu, fmt=\"o\", color=\"#D35400\")\n",
    "plt.plot(X_star, Y_pred_PLANCK, color='#0E6655', linestyle='dashed',\n",
    "         label='GP Best-fit')\n",
    "ax.grid(True, linestyle='--', alpha=0.2)\n",
    "plt.fill_between(X_star.flatten(), \n",
    "                 Y_pred_PLANCK - 2 * std_PLANCK, Y_pred_PLANCK + 2 * std_PLANCK, color='#0E6655', \n",
    "                 alpha=0.25, label=r'±2 $\\sigma$')\n",
    "plt.fill_between(X_star.flatten(), \n",
    "                Y_pred_PLANCK - std_PLANCK, Y_pred_PLANCK + std_PLANCK, color='#0E6655', \n",
    "              alpha=0.45, label=r'±1 $\\sigma$')\n",
    "plt.xlim(0.004, 1.13)\n",
    "plt.ylim(-0.5, 0.65)\n",
    "\n",
    "\n",
    "plt.xlabel('z', fontsize=15)\n",
    "plt.ylabel('μ(z)', rotation=0, labelpad=15, fontsize=15)\n",
    "plt.legend()\n",
    "plt.savefig(\"gpr.png\")\n",
    "plt.show()"
   ]
  },
  {
   "cell_type": "markdown",
   "id": "d4252dde-82c3-4394-bdf4-b9992e23d86f",
   "metadata": {},
   "source": [
    "## MCMC for 2HDMLS parameters"
   ]
  },
  {
   "cell_type": "code",
   "execution_count": 40,
   "id": "2a24f245-256d-494b-9b48-2466d9e9aff6",
   "metadata": {},
   "outputs": [],
   "source": [
    "z = np.linspace(0, 14, 1500).reshape(-1,1)"
   ]
  },
  {
   "cell_type": "code",
   "execution_count": 41,
   "id": "439949f6-d17d-4809-8c33-92b37bbed87e",
   "metadata": {},
   "outputs": [],
   "source": [
    "mu_GPR, std_mu_GPR = muGPR_PLANCK.predict(z, return_std=True)"
   ]
  },
  {
   "cell_type": "code",
   "execution_count": 42,
   "id": "2788fc08-d709-48a0-b500-00d2438c9b0b",
   "metadata": {},
   "outputs": [
    {
     "name": "stdout",
     "output_type": "stream",
     "text": [
      "O valor de μ₀ calculado pelo GPR: 0.0005500589483593554 com erro: 0.0008950460497906155 \n",
      "está de acordo com a medida dentro de 0.006 σ\n"
     ]
    }
   ],
   "source": [
    "Z_score = (np.abs(1/1837 - mu_GPR[0] ))/std_mu_GPR[0]\n",
    "print(\"O valor de μ₀ calculado pelo GPR:\",mu_GPR[0], \"com erro:\", std_mu_GPR[0],  \n",
    "      \"\\n\"+\"está de acordo com a medida dentro de\", round(Z_score,3), \"σ\")"
   ]
  },
  {
   "cell_type": "markdown",
   "id": "6bde936c-6fae-4819-9909-fb07036d95a0",
   "metadata": {},
   "source": [
    "### yukawa coupling"
   ]
  },
  {
   "cell_type": "markdown",
   "id": "fd8b36e2-8be3-4bd2-9aa7-440837e4bf1b",
   "metadata": {},
   "source": [
    "$$\n",
    "m_{e} = y_{e} \\frac{v}{\\sqrt{2}}\n",
    "$$\n",
    "\n",
    "$$\n",
    "y_e = \\frac{\\sqrt{2} \\times 0.511 \\times 10^{-3} \\, \\text{GeV}}{246 \\, \\text{GeV}}\n",
    "$$\n",
    "\n",
    "usando $v = 246.22 \\pm 0.02$ GeV e $ m_{e} = 0.5109989461 \\pm 3.1\\cdot 10^{-9}\\,$ MeV \n",
    "\n",
    "$$\n",
    "y_{e} \\approx 2.9\\cdot 10^{-3} \\pm 2.4 \\cdot 10^{-7}\n",
    "$$"
   ]
  },
  {
   "cell_type": "markdown",
   "id": "30b2d75c-b179-44f4-aafc-cb24cad0f31c",
   "metadata": {},
   "source": [
    "$$\n",
    "\\mu(z) - \\frac{y_{e}}{\\sqrt{2}}\\frac{v_{2}}{m_{p}}cot\\beta(z) = 0\n",
    "$$\n",
    "\n",
    "$$\n",
    "v_2^{2} + v_{1}^{2} = v_{2}^{2}( 1 + cot\\beta(z=0)^{2} ) = 246^{2} \n",
    "$$\n",
    "\n",
    "$$\n",
    "(1 + cot\\beta^{2}) = \\frac{246^{2}}{v_{2}^{2}}\n",
    "$$"
   ]
  },
  {
   "cell_type": "code",
   "execution_count": 43,
   "id": "2011e37b-b90c-4b1c-b8f4-ab997af0f434",
   "metadata": {},
   "outputs": [],
   "source": [
    "import emcee\n",
    "import numpy as np\n",
    "import pandas as pd\n",
    "import seaborn as sns\n",
    "import matplotlib.pyplot as plt\n",
    "from scipy.stats import norm\n",
    "from scipy.integrate import quad\n",
    "\n",
    "np.random.seed(42)\n",
    "num_simulacoes = 55500\n",
    "\n",
    "y_e = 0.0029\n",
    "v2_std = 0.2 \n",
    "cot_beta_std = 2e-2  \n",
    "mp = 0.938 \n",
    "mu0_PLANCK = mu_GPR[0] \n",
    "\n",
    "cotbeta0 = np.random.uniform(0, 1)\n",
    "v20 = 246 / np.sqrt(1 + cotbeta0**2)\n",
    "\n",
    "def objetivo(v2, cot_beta, mp, mu0):\n",
    "    termo1 = mu0\n",
    "    termo2 = (y_e * v2 * cot_beta) / (np.sqrt(2) * mp)\n",
    "    return termo1 - termo2\n",
    "\n",
    "tolerancia = 2e-2  \n",
    "\n",
    "v2_samples = np.random.normal(v20, v2_std, num_simulacoes)\n",
    "cot_beta_samples = np.random.normal(cotbeta0, cot_beta_std, num_simulacoes)\n",
    "\n",
    "resultados = []\n",
    "cadeias_amostras = []\n",
    "\n",
    "for i in range(num_simulacoes):\n",
    "    try:\n",
    "        resultado = objetivo(v2_samples[i], cot_beta_samples[i], mp, mu0_PLANCK)\n",
    "        \n",
    "       \n",
    "        v2_calculado = 246 / np.sqrt(1 + cot_beta_samples[i]**2)\n",
    "        if np.abs(v2_samples[i] - v2_calculado) > tolerancia:\n",
    "            continue  \n",
    "\n",
    "        if isinstance(resultado, pd.Series):\n",
    "            resultado = resultado.iloc[0]\n",
    "        if np.isfinite(resultado):\n",
    "            resultados.append(resultado)\n",
    "            cadeias_amostras.append([v2_samples[i], cot_beta_samples[i]])\n",
    "        else:\n",
    "            resultados.append(np.inf)\n",
    "    except Exception as e:\n",
    "        print(f\"Erro na simulação {i}: {e}\")\n",
    "        resultados.append(np.inf)"
   ]
  },
  {
   "cell_type": "code",
   "execution_count": 44,
   "id": "4b3279e9-a6db-481c-b8c1-e52f2837776c",
   "metadata": {},
   "outputs": [],
   "source": [
    "# Analisando os resultados do MCMC\n",
    "resultados = np.array(resultados)\n",
    "cadeias_amostras = np.array(cadeias_amostras)"
   ]
  },
  {
   "cell_type": "code",
   "execution_count": 45,
   "id": "82a1156e-9b26-4a85-94d2-896061db88c8",
   "metadata": {},
   "outputs": [],
   "source": [
    "melhor_indice = np.argmin(np.abs(resultados))\n",
    "melhor_v2 = v2_samples[melhor_indice]\n",
    "melhor_cot_beta = cot_beta_samples[melhor_indice]\n",
    "\n",
    "erros = np.abs(resultados)\n",
    "\n",
    "erros_v2 = np.abs(v2_samples - melhor_v2)\n",
    "erros_cot_beta = np.abs(cot_beta_samples - melhor_cot_beta)"
   ]
  },
  {
   "cell_type": "code",
   "execution_count": 46,
   "id": "91c71b0f-8508-419b-a5b5-e8fae3881e2c",
   "metadata": {},
   "outputs": [
    {
     "name": "stdout",
     "output_type": "stream",
     "text": [
      "Melhores Parâmetros:\n",
      "\n",
      "v2: 230.61520390142135\n",
      "cot_beta: 0.3480912221425625\n",
      "\n",
      "Erros Médios:\n",
      "\n",
      "Erro Médio para v2: 0.26466487734039307\n",
      "Erro Médio para cot_beta: 0.028172827402673392\n"
     ]
    }
   ],
   "source": [
    "print(\"Melhores Parâmetros:\\n\")\n",
    "print(\"v2:\", melhor_v2)\n",
    "print(\"cot_beta:\", melhor_cot_beta)\n",
    "\n",
    "print(\"\\nErros Médios:\\n\")\n",
    "print(\"Erro Médio para v2:\", np.mean(erros_v2))\n",
    "print(\"Erro Médio para cot_beta:\", np.mean(erros_cot_beta))"
   ]
  },
  {
   "cell_type": "markdown",
   "id": "567025a1-daeb-46e4-af47-b74f19088dad",
   "metadata": {},
   "source": [
    "### plot results"
   ]
  },
  {
   "cell_type": "code",
   "execution_count": 47,
   "id": "e6c99a6d-2053-40dc-8ce0-79d9f9413684",
   "metadata": {},
   "outputs": [
    {
     "data": {
      "image/png": "[encoded data removed]",
      "text/plain": [
       "<Figure size 550x550 with 4 Axes>"
      ]
     },
     "metadata": {},
     "output_type": "display_data"
    }
   ],
   "source": [
    "import corner\n",
    "\n",
    "df = pd.DataFrame({'v1': v2_samples, 'tan_beta': cot_beta_samples})\n",
    "\n",
    "figure = corner.corner(df, labels=[r'$v_{2}$', r'$cot\\beta$'], hist_bin_factor=1, color='#4B0082')\n",
    "axes = np.array(figure.axes).reshape((2, 2))\n",
    "\n",
    "axes[0, 0].set_title(r'$v_{2} = $' + '{:.2f}'.format(melhor_v2))\n",
    "axes[0, 0].axvline(x=melhor_v2, color='#0000CD', lw=0.96)\n",
    "axes[1, 0].axvline(x=melhor_v2, color='#0000CD', lw=0.96)\n",
    "axes[1, 0].axhline(y=melhor_cot_beta, color='#0000CD', lw=0.96)\n",
    "axes[1, 1].set_title(r'$\\cot\\beta = $' + '{:.4f}'.format(melhor_cot_beta))\n",
    "axes[1, 1].axvline(x=melhor_cot_beta, color='#0000CD', lw=0.96)\n",
    "plt.savefig(\"maginal-plot.png\")\n",
    "plt.show()"
   ]
  }
 ],
 "metadata": {
  "kernelspec": {
   "display_name": "Python 3 (ipykernel)",
   "language": "python",
   "name": "python3"
  },
  "language_info": {
   "codemirror_mode": {
    "name": "ipython",
    "version": 3
   },
   "file_extension": ".py",
   "mimetype": "text/x-python",
   "name": "python",
   "nbconvert_exporter": "python",
   "pygments_lexer": "ipython3",
   "version": "3.12.3"
  }
 },
 "nbformat": 4,
 "nbformat_minor": 5
}
